{
 "cells": [
  {
   "cell_type": "markdown",
   "metadata": {},
   "source": [
    "# Mobile App to Predict Probability of Winning the Lottery\n",
    "\n",
    "Many people start playing the lottery for fun, but for some this activity turns into a habit and eventually escalates into additction.\n",
    "\n",
    "Suppose a medical institute that aims to prevent and treat gambling addictions wants to build a dedicated mobile app to help lottery addicts better estimate their chances of winning. This project aims to create the logical core of the app that calculates probabilities. The app should focus on the __[6/49 lottery]()__ and builds functions that enables users to answer questions like:\n",
    "\n",
    "* What is the probability of winning the big prize with a single ticket?\n",
    "* What is the probability of winning the big prize with 40 different tickets (or any other number of tickets)?\n",
    "* What is the probability of having at least five (or four, or three, or two) winning numbers on a single ticket?\n",
    "\n",
    "The app should consider historical __[data]()__ coming from the national 6/49 lottery game in Canada."
   ]
  },
  {
   "cell_type": "markdown",
   "metadata": {},
   "source": [
    "### Core Functions\n",
    "\n",
    "Two functions that will be used often within this project are:\n",
    "\n",
    "* A function that calculates factorials; and\n",
    "* A function that calculates combinations.\n",
    "\n",
    "To calcuate factorials:\n",
    "\n",
    "\\begin{equation*}\n",
    "n! = n * (n-1) * (n-2) * \\cdots * 2 * 1\n",
    "\\end{equation*}\n",
    "\n",
    "In the 6/49 lottery, six numbers are drawn from a set of 49 numbers that range from 1 to 49. The drawing is done *without replacement*.\n",
    "\n",
    "To find the number of combinations when sampling without replacement and taking only *k* objects from a group of *n objects*:\n",
    "\n",
    "\\begin{equation*}\n",
    "_{n}C_{k} = {n \\choose k} = \\frac{n!}{k!(n-k)!}\n",
    "\\end{equation*}"
   ]
  },
  {
   "cell_type": "code",
   "execution_count": 1,
   "metadata": {},
   "outputs": [
    {
     "data": {
      "text/plain": [
       "120"
      ]
     },
     "execution_count": 1,
     "metadata": {},
     "output_type": "execute_result"
    }
   ],
   "source": [
    "# Factorial equation using recursion\n",
    "def factorial(n):\n",
    "    if n == 0:\n",
    "        return 1\n",
    "    else:\n",
    "        return n * factorial(n-1)\n",
    "    \n",
    "# Practice using factorial equation\n",
    "factorial(5)"
   ]
  },
  {
   "cell_type": "code",
   "execution_count": 2,
   "metadata": {},
   "outputs": [],
   "source": [
    "# Combinations equation\n",
    "def combinations(n, k):\n",
    "    return factorial(n) / (factorial(k) * factorial(n-k))"
   ]
  },
  {
   "cell_type": "markdown",
   "metadata": {},
   "source": [
    "### One-ticket Probability\n",
    "\n",
    "In the 6/49 lottery, a player wins the big prize if the six numbers on their tickets match all the six number drawn.\n",
    "\n",
    "The code block below calculates the probability of winning the big prize with the various numbers on a single ticket by:\n",
    "\n",
    "* Writing a function that takes in a python list with the six unique numbers; and\n",
    "* prints the probability value in a readable way."
   ]
  },
  {
   "cell_type": "code",
   "execution_count": 3,
   "metadata": {},
   "outputs": [
    {
     "name": "stdout",
     "output_type": "stream",
     "text": [
      "Your chance of being the big winner with the numbers [1, 2, 3, 4, 5, 6] is 0.0000072%.\n",
      "In other words, you have a 1 in 13,983,816 chances to win.\n",
      "\n",
      "\n",
      "Your chance of being the big winner with the numbers [22, 21, 30, 33, 38, 16] is 0.0000072%.\n",
      "In other words, you have a 1 in 13,983,816 chances to win.\n"
     ]
    }
   ],
   "source": [
    "def one_ticket_probability(user_array):\n",
    "    possible_combinations = combinations(49, 6)\n",
    "    answer = (1 / possible_combinations) * 100\n",
    "    return print(\"Your chance of being the big winner with the numbers {} is {:.7f}%.\\nIn other words, you have a 1 in {:,} chances to win.\".format(user_array, answer, int(possible_combinations)))\n",
    "\n",
    "# Test the function\n",
    "one_ticket_probability([1,2,3,4,5,6])\n",
    "print('\\n')\n",
    "one_ticket_probability([22, 21, 30, 33, 38, 16])"
   ]
  },
  {
   "cell_type": "markdown",
   "metadata": {},
   "source": [
    "### Historical Data Check for Canada Lottery\n",
    "\n",
    "The app should allow users to compare their ticket against the historical lottery data in Canada and determine whether they would have ever won by now."
   ]
  },
  {
   "cell_type": "code",
   "execution_count": 4,
   "metadata": {
    "scrolled": true
   },
   "outputs": [
    {
     "name": "stdout",
     "output_type": "stream",
     "text": [
      "(3665, 11)\n"
     ]
    },
    {
     "data": {
      "text/html": [
       "<div>\n",
       "<style scoped>\n",
       "    .dataframe tbody tr th:only-of-type {\n",
       "        vertical-align: middle;\n",
       "    }\n",
       "\n",
       "    .dataframe tbody tr th {\n",
       "        vertical-align: top;\n",
       "    }\n",
       "\n",
       "    .dataframe thead th {\n",
       "        text-align: right;\n",
       "    }\n",
       "</style>\n",
       "<table border=\"1\" class=\"dataframe\">\n",
       "  <thead>\n",
       "    <tr style=\"text-align: right;\">\n",
       "      <th></th>\n",
       "      <th>PRODUCT</th>\n",
       "      <th>DRAW NUMBER</th>\n",
       "      <th>SEQUENCE NUMBER</th>\n",
       "      <th>DRAW DATE</th>\n",
       "      <th>NUMBER DRAWN 1</th>\n",
       "      <th>NUMBER DRAWN 2</th>\n",
       "      <th>NUMBER DRAWN 3</th>\n",
       "      <th>NUMBER DRAWN 4</th>\n",
       "      <th>NUMBER DRAWN 5</th>\n",
       "      <th>NUMBER DRAWN 6</th>\n",
       "      <th>BONUS NUMBER</th>\n",
       "    </tr>\n",
       "  </thead>\n",
       "  <tbody>\n",
       "    <tr>\n",
       "      <td>0</td>\n",
       "      <td>649</td>\n",
       "      <td>1</td>\n",
       "      <td>0</td>\n",
       "      <td>6/12/1982</td>\n",
       "      <td>3</td>\n",
       "      <td>11</td>\n",
       "      <td>12</td>\n",
       "      <td>14</td>\n",
       "      <td>41</td>\n",
       "      <td>43</td>\n",
       "      <td>13</td>\n",
       "    </tr>\n",
       "    <tr>\n",
       "      <td>1</td>\n",
       "      <td>649</td>\n",
       "      <td>2</td>\n",
       "      <td>0</td>\n",
       "      <td>6/19/1982</td>\n",
       "      <td>8</td>\n",
       "      <td>33</td>\n",
       "      <td>36</td>\n",
       "      <td>37</td>\n",
       "      <td>39</td>\n",
       "      <td>41</td>\n",
       "      <td>9</td>\n",
       "    </tr>\n",
       "    <tr>\n",
       "      <td>2</td>\n",
       "      <td>649</td>\n",
       "      <td>3</td>\n",
       "      <td>0</td>\n",
       "      <td>6/26/1982</td>\n",
       "      <td>1</td>\n",
       "      <td>6</td>\n",
       "      <td>23</td>\n",
       "      <td>24</td>\n",
       "      <td>27</td>\n",
       "      <td>39</td>\n",
       "      <td>34</td>\n",
       "    </tr>\n",
       "    <tr>\n",
       "      <td>3</td>\n",
       "      <td>649</td>\n",
       "      <td>4</td>\n",
       "      <td>0</td>\n",
       "      <td>7/3/1982</td>\n",
       "      <td>3</td>\n",
       "      <td>9</td>\n",
       "      <td>10</td>\n",
       "      <td>13</td>\n",
       "      <td>20</td>\n",
       "      <td>43</td>\n",
       "      <td>34</td>\n",
       "    </tr>\n",
       "    <tr>\n",
       "      <td>4</td>\n",
       "      <td>649</td>\n",
       "      <td>5</td>\n",
       "      <td>0</td>\n",
       "      <td>7/10/1982</td>\n",
       "      <td>5</td>\n",
       "      <td>14</td>\n",
       "      <td>21</td>\n",
       "      <td>31</td>\n",
       "      <td>34</td>\n",
       "      <td>47</td>\n",
       "      <td>45</td>\n",
       "    </tr>\n",
       "  </tbody>\n",
       "</table>\n",
       "</div>"
      ],
      "text/plain": [
       "   PRODUCT  DRAW NUMBER  SEQUENCE NUMBER  DRAW DATE  NUMBER DRAWN 1  \\\n",
       "0      649            1                0  6/12/1982               3   \n",
       "1      649            2                0  6/19/1982               8   \n",
       "2      649            3                0  6/26/1982               1   \n",
       "3      649            4                0   7/3/1982               3   \n",
       "4      649            5                0  7/10/1982               5   \n",
       "\n",
       "   NUMBER DRAWN 2  NUMBER DRAWN 3  NUMBER DRAWN 4  NUMBER DRAWN 5  \\\n",
       "0              11              12              14              41   \n",
       "1              33              36              37              39   \n",
       "2               6              23              24              27   \n",
       "3               9              10              13              20   \n",
       "4              14              21              31              34   \n",
       "\n",
       "   NUMBER DRAWN 6  BONUS NUMBER  \n",
       "0              43            13  \n",
       "1              41             9  \n",
       "2              39            34  \n",
       "3              43            34  \n",
       "4              47            45  "
      ]
     },
     "execution_count": 4,
     "metadata": {},
     "output_type": "execute_result"
    }
   ],
   "source": [
    "import pandas as pd\n",
    "\n",
    "lottery_canada = pd.read_csv('649.csv')\n",
    "print(lottery_canada.shape)\n",
    "lottery_canada.head(5)"
   ]
  },
  {
   "cell_type": "code",
   "execution_count": 5,
   "metadata": {},
   "outputs": [
    {
     "data": {
      "text/html": [
       "<div>\n",
       "<style scoped>\n",
       "    .dataframe tbody tr th:only-of-type {\n",
       "        vertical-align: middle;\n",
       "    }\n",
       "\n",
       "    .dataframe tbody tr th {\n",
       "        vertical-align: top;\n",
       "    }\n",
       "\n",
       "    .dataframe thead th {\n",
       "        text-align: right;\n",
       "    }\n",
       "</style>\n",
       "<table border=\"1\" class=\"dataframe\">\n",
       "  <thead>\n",
       "    <tr style=\"text-align: right;\">\n",
       "      <th></th>\n",
       "      <th>PRODUCT</th>\n",
       "      <th>DRAW NUMBER</th>\n",
       "      <th>SEQUENCE NUMBER</th>\n",
       "      <th>DRAW DATE</th>\n",
       "      <th>NUMBER DRAWN 1</th>\n",
       "      <th>NUMBER DRAWN 2</th>\n",
       "      <th>NUMBER DRAWN 3</th>\n",
       "      <th>NUMBER DRAWN 4</th>\n",
       "      <th>NUMBER DRAWN 5</th>\n",
       "      <th>NUMBER DRAWN 6</th>\n",
       "      <th>BONUS NUMBER</th>\n",
       "    </tr>\n",
       "  </thead>\n",
       "  <tbody>\n",
       "    <tr>\n",
       "      <td>3660</td>\n",
       "      <td>649</td>\n",
       "      <td>3587</td>\n",
       "      <td>0</td>\n",
       "      <td>6/6/2018</td>\n",
       "      <td>10</td>\n",
       "      <td>15</td>\n",
       "      <td>23</td>\n",
       "      <td>38</td>\n",
       "      <td>40</td>\n",
       "      <td>41</td>\n",
       "      <td>35</td>\n",
       "    </tr>\n",
       "    <tr>\n",
       "      <td>3661</td>\n",
       "      <td>649</td>\n",
       "      <td>3588</td>\n",
       "      <td>0</td>\n",
       "      <td>6/9/2018</td>\n",
       "      <td>19</td>\n",
       "      <td>25</td>\n",
       "      <td>31</td>\n",
       "      <td>36</td>\n",
       "      <td>46</td>\n",
       "      <td>47</td>\n",
       "      <td>26</td>\n",
       "    </tr>\n",
       "    <tr>\n",
       "      <td>3662</td>\n",
       "      <td>649</td>\n",
       "      <td>3589</td>\n",
       "      <td>0</td>\n",
       "      <td>6/13/2018</td>\n",
       "      <td>6</td>\n",
       "      <td>22</td>\n",
       "      <td>24</td>\n",
       "      <td>31</td>\n",
       "      <td>32</td>\n",
       "      <td>34</td>\n",
       "      <td>16</td>\n",
       "    </tr>\n",
       "    <tr>\n",
       "      <td>3663</td>\n",
       "      <td>649</td>\n",
       "      <td>3590</td>\n",
       "      <td>0</td>\n",
       "      <td>6/16/2018</td>\n",
       "      <td>2</td>\n",
       "      <td>15</td>\n",
       "      <td>21</td>\n",
       "      <td>31</td>\n",
       "      <td>38</td>\n",
       "      <td>49</td>\n",
       "      <td>8</td>\n",
       "    </tr>\n",
       "    <tr>\n",
       "      <td>3664</td>\n",
       "      <td>649</td>\n",
       "      <td>3591</td>\n",
       "      <td>0</td>\n",
       "      <td>6/20/2018</td>\n",
       "      <td>14</td>\n",
       "      <td>24</td>\n",
       "      <td>31</td>\n",
       "      <td>35</td>\n",
       "      <td>37</td>\n",
       "      <td>48</td>\n",
       "      <td>17</td>\n",
       "    </tr>\n",
       "  </tbody>\n",
       "</table>\n",
       "</div>"
      ],
      "text/plain": [
       "      PRODUCT  DRAW NUMBER  SEQUENCE NUMBER  DRAW DATE  NUMBER DRAWN 1  \\\n",
       "3660      649         3587                0   6/6/2018              10   \n",
       "3661      649         3588                0   6/9/2018              19   \n",
       "3662      649         3589                0  6/13/2018               6   \n",
       "3663      649         3590                0  6/16/2018               2   \n",
       "3664      649         3591                0  6/20/2018              14   \n",
       "\n",
       "      NUMBER DRAWN 2  NUMBER DRAWN 3  NUMBER DRAWN 4  NUMBER DRAWN 5  \\\n",
       "3660              15              23              38              40   \n",
       "3661              25              31              36              46   \n",
       "3662              22              24              31              32   \n",
       "3663              15              21              31              38   \n",
       "3664              24              31              35              37   \n",
       "\n",
       "      NUMBER DRAWN 6  BONUS NUMBER  \n",
       "3660              41            35  \n",
       "3661              47            26  \n",
       "3662              34            16  \n",
       "3663              49             8  \n",
       "3664              48            17  "
      ]
     },
     "execution_count": 5,
     "metadata": {},
     "output_type": "execute_result"
    }
   ],
   "source": [
    "lottery_canada.tail(5)"
   ]
  },
  {
   "cell_type": "markdown",
   "metadata": {},
   "source": [
    "The data set contains historical data for 3,665 drawings (each row shows data for a single drawing), dating from 1982 to 2018. Each drawing, one can find the six numbers drawn in the following six column:\n",
    "\n",
    "* `NUMBER DRAWN 1`\n",
    "* `NUMBER DRAWN 2`\n",
    "* `NUMBER DRAWN 3`\n",
    "* `NUMBER DRAWN 4`\n",
    "* `NUMBER DRAWN 5`\n",
    "* `NUMBER DRAWN 6`"
   ]
  },
  {
   "cell_type": "markdown",
   "metadata": {},
   "source": [
    "### Function for Historical Data Check\n",
    "\n",
    "The code block below provides a function that enables users to compare their ticket against the historical lottery data in Canada and determine whether they would have ever won by now.\n",
    "\n",
    "The function will print:\n",
    "\n",
    "* the number of times the user's selected combination occurred in the Canada data set; and\n",
    "* the probability of winning the big prize in the next drawing with that combination."
   ]
  },
  {
   "cell_type": "code",
   "execution_count": 6,
   "metadata": {},
   "outputs": [
    {
     "data": {
      "text/plain": [
       "0    {3, 41, 11, 12, 43, 14}\n",
       "1    {33, 36, 37, 39, 8, 41}\n",
       "2     {1, 6, 39, 23, 24, 27}\n",
       "3     {3, 9, 10, 43, 13, 20}\n",
       "4    {34, 5, 14, 47, 21, 31}\n",
       "dtype: object"
      ]
     },
     "execution_count": 6,
     "metadata": {},
     "output_type": "execute_result"
    }
   ],
   "source": [
    "# Extract the winning six numbers from the historical data set as Python sets\n",
    "def extract_numbers(row):\n",
    "    row = row[4:10]\n",
    "    row = set(row.values)\n",
    "    return row\n",
    "\n",
    "winning_numbers = lottery_canada.apply(extract_numbers, axis=1)\n",
    "winning_numbers.head()"
   ]
  },
  {
   "cell_type": "code",
   "execution_count": 7,
   "metadata": {},
   "outputs": [],
   "source": [
    "# A function that checks the historical occurence of the user's selected numbers\n",
    "def check_historical_occurrence(user_array, historical_numbers):\n",
    "    user_set = set(user_array)\n",
    "    check_occurrence = historical_numbers == user_set\n",
    "    n_occurrences = check_occurrence.sum()\n",
    "    \n",
    "    if n_occurrences == 0:\n",
    "        print(\"The combination {} has never occured.\\nThis doesn't mean it's more likely to occur now.\\nYour chances to win the big prize in the next drawing using the combination {} are 0.0000072%.\\nIn other words, you have a 1 in 13,983,816 chances to win.\".format(user_array, user_array))\n",
    "        \n",
    "    else:\n",
    "        print(\"The combination {} has occurred {} time(s) in the past.\\nYour chances to win the big prize in the next drawing using the combination {} are 0.0000072%.\\nIn other words, you have a 1 in 13,983,816 chances to win.\".format(user_array, n_occurrences, user_array))\n",
    "        "
   ]
  },
  {
   "cell_type": "code",
   "execution_count": 8,
   "metadata": {},
   "outputs": [
    {
     "name": "stdout",
     "output_type": "stream",
     "text": [
      "The combination [33, 47, 15, 11, 2, 28] has never occured.\n",
      "This doesn't mean it's more likely to occur now.\n",
      "Your chances to win the big prize in the next drawing using the combination [33, 47, 15, 11, 2, 28] are 0.0000072%.\n",
      "In other words, you have a 1 in 13,983,816 chances to win.\n"
     ]
    }
   ],
   "source": [
    "test_input = [33, 47, 15, 11, 2, 28]\n",
    "check_historical_occurrence(test_input, winning_numbers)"
   ]
  },
  {
   "cell_type": "code",
   "execution_count": 9,
   "metadata": {},
   "outputs": [
    {
     "name": "stdout",
     "output_type": "stream",
     "text": [
      "The combination [33, 36, 37, 39, 8, 41] has occurred 1 time(s) in the past.\n",
      "Your chances to win the big prize in the next drawing using the combination [33, 36, 37, 39, 8, 41] are 0.0000072%.\n",
      "In other words, you have a 1 in 13,983,816 chances to win.\n"
     ]
    }
   ],
   "source": [
    "test_input = [33, 36, 37, 39, 8, 41]\n",
    "check_historical_occurrence(test_input, winning_numbers)"
   ]
  },
  {
   "cell_type": "markdown",
   "metadata": {},
   "source": [
    "### Multi-ticket Probability\n",
    "\n",
    "Users should be able to find the probability of winning if they play multiple different tickets.\n",
    "\n",
    "The following function takes in the number of tickets and prints the probability information depending on the input. "
   ]
  },
  {
   "cell_type": "code",
   "execution_count": 10,
   "metadata": {},
   "outputs": [],
   "source": [
    "def multi_ticket_probability(n_tickets):\n",
    "    n_combinations = combinations(49, 6)\n",
    "    probability = n_tickets / n_combinations\n",
    "    percentage_form = probability * 100\n",
    "    \n",
    "    if n_tickets == 1:\n",
    "        print(\"Your chances to win the big prize with one ticket are {:.6f}%.\\nIn other words, you have a 1 in {:,} chances to win.\".format(percentage_form, int(n_combinations)))\n",
    "    else:\n",
    "        combinations_simplified = round(n_combinations / n_tickets)\n",
    "        print(\"Your chances to win the big prize with {:,} different tickets are {:.6f}%.\\nIn other words, you have a 1 in {:,} chances to win.\".format(n_tickets, percentage_form, combinations_simplified))     "
   ]
  },
  {
   "cell_type": "code",
   "execution_count": 11,
   "metadata": {},
   "outputs": [
    {
     "name": "stdout",
     "output_type": "stream",
     "text": [
      "Your chances to win the big prize with one ticket are 0.000007%.\n",
      "In other words, you have a 1 in 13,983,816 chances to win.\n",
      "------------------------\n",
      "Your chances to win the big prize with 10 different tickets are 0.000072%.\n",
      "In other words, you have a 1 in 1,398,382 chances to win.\n",
      "------------------------\n",
      "Your chances to win the big prize with 100 different tickets are 0.000715%.\n",
      "In other words, you have a 1 in 139,838 chances to win.\n",
      "------------------------\n",
      "Your chances to win the big prize with 1,000 different tickets are 0.007151%.\n",
      "In other words, you have a 1 in 13,984 chances to win.\n",
      "------------------------\n",
      "Your chances to win the big prize with 10,000 different tickets are 0.071511%.\n",
      "In other words, you have a 1 in 1,398 chances to win.\n",
      "------------------------\n",
      "Your chances to win the big prize with 6,991,908 different tickets are 50.000000%.\n",
      "In other words, you have a 1 in 2 chances to win.\n",
      "------------------------\n",
      "Your chances to win the big prize with 13,983,816 different tickets are 100.000000%.\n",
      "In other words, you have a 1 in 1 chances to win.\n",
      "------------------------\n"
     ]
    }
   ],
   "source": [
    "test_inputs = [1, 10, 100, 1000, 10000, 6991908, 13983816]\n",
    "\n",
    "for test_input in test_inputs:\n",
    "    multi_ticket_probability(test_input)\n",
    "    print('------------------------') # output delimiter"
   ]
  },
  {
   "cell_type": "markdown",
   "metadata": {},
   "source": [
    "### Less Winning Numbers - Function\n",
    "\n",
    "In most 6/49 lotteries, there are smaller prizes if a player's tickets match two, three, four, or five of the six numbers drawn. This means that players might be interested in finding out the probability of having two, three, four, or five winning numbers.\n",
    "\n",
    "The resulting function takes an integer between 2 and 5 and prints information about the chances of winning depending on the value of that integer.\n",
    "\n",
    "The function below calculates the probability that a player's ticket matches exactly the given number of winning numbers. The function will not return the probability of having *at least n winning numbers*."
   ]
  },
  {
   "cell_type": "code",
   "execution_count": 12,
   "metadata": {},
   "outputs": [],
   "source": [
    "def probability_less_6(n_winning_numbers):\n",
    "    \n",
    "    n_combinations_ticket = combinations(6, n_winning_numbers)\n",
    "    n_combinations_remaining = combinations(43, 6 - n_winning_numbers)\n",
    "    successful_outcomes = n_combinations_ticket * n_combinations_remaining\n",
    "    \n",
    "    n_combinations_total = combinations(49, 6)\n",
    "    probability = successful_outcomes / n_combinations_total\n",
    "    \n",
    "    probability_percentage = probability * 100\n",
    "    combinations_simplified = round(n_combinations_total/successful_outcomes)\n",
    "    print(\"Your chances of having {} winning numbers with this ticket are {:.6f}%.\\nIn other words, you have a 1 in {:,} chances to win.\".format(n_winning_numbers, probability_percentage, int(combinations_simplified)))"
   ]
  },
  {
   "cell_type": "code",
   "execution_count": 13,
   "metadata": {},
   "outputs": [
    {
     "name": "stdout",
     "output_type": "stream",
     "text": [
      "Your chances of having 2 winning numbers with this ticket are 13.237803%.\n",
      "In other words, you have a 1 in 8 chances to win.\n",
      "---------------------------\n",
      "Your chances of having 3 winning numbers with this ticket are 1.765040%.\n",
      "In other words, you have a 1 in 57 chances to win.\n",
      "---------------------------\n",
      "Your chances of having 4 winning numbers with this ticket are 0.096862%.\n",
      "In other words, you have a 1 in 1,032 chances to win.\n",
      "---------------------------\n",
      "Your chances of having 5 winning numbers with this ticket are 0.001845%.\n",
      "In other words, you have a 1 in 54,201 chances to win.\n",
      "---------------------------\n"
     ]
    }
   ],
   "source": [
    "for test_input in [2, 3, 4, 5]:\n",
    "    probability_less_6(test_input)\n",
    "    print('---------------------------')"
   ]
  },
  {
   "cell_type": "markdown",
   "metadata": {},
   "source": [
    "### Next Steps\n",
    "\n",
    "For this project, the four main functions were:\n",
    "\n",
    "* one_ticket_probability() - calculates the probability of winning the big prize with a single ticket\n",
    "* check_historical_occurrence() - checks whether a certain combination has occurred in the Canada lottery data set\n",
    "* multi_ticket_probability() - calculates the probability for any number of tickets between 1 and 13,983,816\n",
    "* probability_less_6() - calculates the probability of having two, three, four, or five winning numbers exactly.\n",
    "\n",
    "Possible features for a second version of the app include:\n",
    "\n",
    "* Making the outputs even easier to understand by adding fun analogies (for example, one can find probabilities for strange eents and compare with the chances of winning in lottery; for instance, one can output something along the lines \"You are 100 times more likely to be a victim of a shark attack than winning the lottery\")\n",
    "* Combining the one_ticket_probability() and check_historical_occurrence() to output information on probablity and historical occurrence at the same time.\n",
    "* Create a function similar to probability_less_6() which calculates the probabiltiy of having *at least* two, three, four, or five winning numbers is the sum of these three numbers:\n",
    "    * The number of successful outcomes for having four winning numbers exactly\n",
    "    * The number of successful outcomes for havig five winning numbers exactly\n",
    "    * The number of successful outcomes for having six winning numbers exactly"
   ]
  },
  {
   "cell_type": "code",
   "execution_count": null,
   "metadata": {},
   "outputs": [],
   "source": []
  }
 ],
 "metadata": {
  "kernelspec": {
   "display_name": "Python 3",
   "language": "python",
   "name": "python3"
  },
  "language_info": {
   "codemirror_mode": {
    "name": "ipython",
    "version": 3
   },
   "file_extension": ".py",
   "mimetype": "text/x-python",
   "name": "python",
   "nbconvert_exporter": "python",
   "pygments_lexer": "ipython3",
   "version": "3.7.4"
  }
 },
 "nbformat": 4,
 "nbformat_minor": 2
}
